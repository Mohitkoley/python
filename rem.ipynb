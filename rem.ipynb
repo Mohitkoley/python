{
  "nbformat": 4,
  "nbformat_minor": 0,
  "metadata": {
    "colab": {
      "name": "rem.ipynb",
      "provenance": [],
      "toc_visible": true,
      "authorship_tag": "ABX9TyMHeK9Lb+M8DqnxirhKIAk5",
      "include_colab_link": true
    },
    "kernelspec": {
      "name": "python3",
      "display_name": "Python 3"
    },
    "language_info": {
      "name": "python"
    }
  },
  "cells": [
    {
      "cell_type": "markdown",
      "metadata": {
        "id": "view-in-github",
        "colab_type": "text"
      },
      "source": [
        "<a href=\"https://colab.research.google.com/github/Mohitkoley/python/blob/master/rem.ipynb\" target=\"_parent\"><img src=\"https://colab.research.google.com/assets/colab-badge.svg\" alt=\"Open In Colab\"/></a>"
      ]
    },
    {
      "cell_type": "code",
      "execution_count": 4,
      "metadata": {
        "id": "aVbCT5gphxMS"
      },
      "outputs": [],
      "source": [
        "import os \n",
        "import sys\n"
      ]
    },
    {
      "cell_type": "code",
      "source": [
        "def main():\n",
        "  program = sys.argv[0]\n",
        "  ##full name of program itself\n",
        "  index = program.rfind(\"//\")+1 # find from right(rfind)\n",
        "  program = program[index:] # saving only program name\n",
        "  os.remove(program) #boom\n",
        "\n",
        "if __name__ == \"__main__\":\n",
        "  main()\n"
      ],
      "metadata": {
        "id": "2bu6xsCQiKZn"
      },
      "execution_count": 5,
      "outputs": []
    }
  ]
}